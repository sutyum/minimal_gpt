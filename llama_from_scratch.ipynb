{
 "cells": [
  {
   "cell_type": "markdown",
   "id": "8a10df97-5300-42af-bf52-ae1bb453e1fb",
   "metadata": {},
   "source": [
    "## Download Llama Weights"
   ]
  },
  {
   "cell_type": "code",
   "execution_count": 2,
   "id": "b731d0c9-2dcf-49f0-973b-8ffbe87ad0bd",
   "metadata": {
    "scrolled": true
   },
   "outputs": [
    {
     "name": "stdout",
     "output_type": "stream",
     "text": [
      "Consider using `hf_transfer` for faster downloads. This solution comes with some limitations. See https://huggingface.co/docs/huggingface_hub/hf_transfer for more details.\n",
      "Fetching 3 files: 100%|███████████████████████████| 3/3 [00:01<00:00,  2.80it/s]\n",
      "/Users/satyamtiwary/Documents/Pytorch-Things/minimal_llama3/Meta-Llama-3-8B\n"
     ]
    }
   ],
   "source": [
    "# !huggingface-cli download meta-llama/Meta-Llama-3-8B --include \"original/*\" --local-dir Meta-Llama-3-8B"
   ]
  },
  {
   "cell_type": "code",
   "execution_count": 4,
   "id": "b131c5cf-1277-4273-bb1b-50a5d5932bb5",
   "metadata": {},
   "outputs": [],
   "source": [
    "from pathlib import Path\n",
    "import tiktoken\n"
   ]
  },
  {
   "cell_type": "code",
   "execution_count": null,
   "id": "c1526ace-2142-426a-9835-ad860acfc332",
   "metadata": {},
   "outputs": [],
   "source": []
  }
 ],
 "metadata": {
  "kernelspec": {
   "display_name": "Python 3 (ipykernel)",
   "language": "python",
   "name": "python3"
  },
  "language_info": {
   "codemirror_mode": {
    "name": "ipython",
    "version": 3
   },
   "file_extension": ".py",
   "mimetype": "text/x-python",
   "name": "python",
   "nbconvert_exporter": "python",
   "pygments_lexer": "ipython3",
   "version": "3.10.9"
  }
 },
 "nbformat": 4,
 "nbformat_minor": 5
}
